{
 "cells": [
  {
   "cell_type": "markdown",
   "metadata": {},
   "source": [
    "# Continuous Control\n",
    "\n",
    "---\n",
    "\n",
    "In this notebook, you will learn how to use the Unity ML-Agents environment for the second project of the [Deep Reinforcement Learning Nanodegree](https://www.udacity.com/course/deep-reinforcement-learning-nanodegree--nd893) program.\n",
    "\n",
    "### 1. Start the Environment\n",
    "\n",
    "We begin by importing the necessary packages.  If the code cell below returns an error, please revisit the project instructions to double-check that you have installed [Unity ML-Agents](https://github.com/Unity-Technologies/ml-agents/blob/master/docs/Installation.md) and [NumPy](http://www.numpy.org/)."
   ]
  },
  {
   "cell_type": "code",
   "execution_count": 1,
   "metadata": {
    "collapsed": true
   },
   "outputs": [],
   "source": [
    "from unityagents import UnityEnvironment\n",
    "import numpy as np\n",
    "from ddpg_agent import Agent\n",
    "from collections import deque\n",
    "import matplotlib.pyplot as plt\n",
    "import random\n",
    "import torch "
   ]
  },
  {
   "cell_type": "markdown",
   "metadata": {},
   "source": [
    "Next, we will start the environment!  **_Before running the code cell below_**, change the `file_name` parameter to match the location of the Unity environment that you downloaded.\n",
    "\n",
    "- **Mac**: `\"path/to/Reacher.app\"`\n",
    "- **Windows** (x86): `\"path/to/Reacher_Windows_x86/Reacher.exe\"`\n",
    "- **Windows** (x86_64): `\"path/to/Reacher_Windows_x86_64/Reacher.exe\"`\n",
    "- **Linux** (x86): `\"path/to/Reacher_Linux/Reacher.x86\"`\n",
    "- **Linux** (x86_64): `\"path/to/Reacher_Linux/Reacher.x86_64\"`\n",
    "- **Linux** (x86, headless): `\"path/to/Reacher_Linux_NoVis/Reacher.x86\"`\n",
    "- **Linux** (x86_64, headless): `\"path/to/Reacher_Linux_NoVis/Reacher.x86_64\"`\n",
    "\n",
    "For instance, if you are using a Mac, then you downloaded `Reacher.app`.  If this file is in the same folder as the notebook, then the line below should appear as follows:\n",
    "```\n",
    "env = UnityEnvironment(file_name=\"Reacher.app\")\n",
    "```"
   ]
  },
  {
   "cell_type": "code",
   "execution_count": 2,
   "metadata": {
    "collapsed": false
   },
   "outputs": [
    {
     "name": "stderr",
     "output_type": "stream",
     "text": [
      "INFO:unityagents:\n",
      "'Academy' started successfully!\n",
      "Unity Academy name: Academy\n",
      "        Number of Brains: 1\n",
      "        Number of External Brains : 1\n",
      "        Lesson number : 0\n",
      "        Reset Parameters :\n",
      "\t\tgoal_speed -> 1.0\n",
      "\t\tgoal_size -> 5.0\n",
      "Unity brain name: ReacherBrain\n",
      "        Number of Visual Observations (per agent): 0\n",
      "        Vector Observation space type: continuous\n",
      "        Vector Observation space size (per agent): 33\n",
      "        Number of stacked Vector Observation: 1\n",
      "        Vector Action space type: continuous\n",
      "        Vector Action space size (per agent): 4\n",
      "        Vector Action descriptions: , , , \n"
     ]
    }
   ],
   "source": [
    "env = UnityEnvironment(file_name='Reacher_Windows_x86_64\\Reacher.exe')"
   ]
  },
  {
   "cell_type": "markdown",
   "metadata": {},
   "source": [
    "Environments contain **_brains_** which are responsible for deciding the actions of their associated agents. Here we check for the first brain available, and set it as the default brain we will be controlling from Python."
   ]
  },
  {
   "cell_type": "code",
   "execution_count": 3,
   "metadata": {
    "collapsed": true
   },
   "outputs": [],
   "source": [
    "# get the default brain\n",
    "brain_name = env.brain_names[0]\n",
    "brain = env.brains[brain_name]"
   ]
  },
  {
   "cell_type": "markdown",
   "metadata": {},
   "source": [
    "### 2. Examine the State and Action Spaces\n",
    "\n",
    "In this environment, a double-jointed arm can move to target locations. A reward of `+0.1` is provided for each step that the agent's hand is in the goal location. Thus, the goal of your agent is to maintain its position at the target location for as many time steps as possible.\n",
    "\n",
    "The observation space consists of `33` variables corresponding to position, rotation, velocity, and angular velocities of the arm.  Each action is a vector with four numbers, corresponding to torque applicable to two joints.  Every entry in the action vector must be a number between `-1` and `1`.\n",
    "\n",
    "Run the code cell below to print some information about the environment."
   ]
  },
  {
   "cell_type": "code",
   "execution_count": 4,
   "metadata": {
    "collapsed": false
   },
   "outputs": [
    {
     "name": "stdout",
     "output_type": "stream",
     "text": [
      "Number of agents: 20\n",
      "Size of each action: 4\n",
      "There are 20 agents. Each observes a state with length: 33\n",
      "The state for the first agent looks like: [ 0.00000000e+00 -4.00000000e+00  0.00000000e+00  1.00000000e+00\n",
      " -0.00000000e+00 -0.00000000e+00 -4.37113883e-08  0.00000000e+00\n",
      "  0.00000000e+00  0.00000000e+00  0.00000000e+00  0.00000000e+00\n",
      "  0.00000000e+00  0.00000000e+00 -1.00000000e+01  0.00000000e+00\n",
      "  1.00000000e+00 -0.00000000e+00 -0.00000000e+00 -4.37113883e-08\n",
      "  0.00000000e+00  0.00000000e+00  0.00000000e+00  0.00000000e+00\n",
      "  0.00000000e+00  0.00000000e+00  5.75471878e+00 -1.00000000e+00\n",
      "  5.55726624e+00  0.00000000e+00  1.00000000e+00  0.00000000e+00\n",
      " -1.68164849e-01]\n"
     ]
    }
   ],
   "source": [
    "# reset the environment\n",
    "env_info = env.reset(train_mode=True)[brain_name]\n",
    "\n",
    "# number of agents\n",
    "num_agents = len(env_info.agents)\n",
    "print('Number of agents:', num_agents)\n",
    "\n",
    "# size of each action\n",
    "action_size = brain.vector_action_space_size\n",
    "print('Size of each action:', action_size)\n",
    "\n",
    "# examine the state space \n",
    "states = env_info.vector_observations\n",
    "state_size = states.shape[1]\n",
    "print('There are {} agents. Each observes a state with length: {}'.format(states.shape[0], state_size))\n",
    "print('The state for the first agent looks like:', states[0])"
   ]
  },
  {
   "cell_type": "markdown",
   "metadata": {},
   "source": [
    "### 3. Train DDPG\n",
    "Now it's your turn to train your own agent to solve the environment!  When training the environment, set `train_mode=True`, so that the line for resetting the environment looks like the following:\n",
    "```python\n",
    "env_info = env.reset(train_mode=True)[brain_name]\n",
    "```"
   ]
  },
  {
   "cell_type": "code",
   "execution_count": null,
   "metadata": {
    "collapsed": false
   },
   "outputs": [],
   "source": [
    "def ddpg(n_episodes=2000, max_t=1000,  maxlen = 100, solved_score = 30.0, train_mode=True):\n",
    "    \"\"\"Deep Deterministic Policy Gradient (DDPG) \n",
    "    \n",
    "    Params\n",
    "    ======\n",
    "        n_episodes (int): maximum number of training episodes\n",
    "        max_t (int): maximum number of timesteps per episode\n",
    "        train_mode (bool)     : if 'True' set environment to training mode\n",
    "        maxlen(int): the window size to take the average scores \n",
    "        solved_score (float)  : minimun average score over maxlen consecutive episodes, and over all agents\n",
    "    \"\"\"\n",
    "   \n",
    "    scores_window = deque(maxlen = maxlen)  # mean score list over maxlen episodes\n",
    "    scores_all = []  # all scores for each agent and each episode\n",
    "    mean_scores_over_agents = [] # the mean score averaged over agents for each episode\n",
    "    mean_scores_over_agents_episodes = [] # the mean score averaged over agents and episodes\n",
    "   \n",
    "    for i_episode in range(1, n_episodes+1):\n",
    "        env_info = env.reset(train_mode = train_mode)[brain_name] # reset the environment\n",
    "        states = env_info.vector_observations     # get the current state for each agent\n",
    "        scores = np.zeros(num_agents)               # scores for each agent\n",
    "        for t in range(max_t):\n",
    "            actions = agent.act(states, add_noise=True)  # select the action with adding noise, for each agent\n",
    "            env_info = env.step(actions)[brain_name]     # send the action to the environment\n",
    "            next_states = env_info.vector_observations   # get the next state for each agent\n",
    "            rewards = env_info.rewards                   # get the reward for each agent\n",
    "            dones = env_info.local_done                  # see if episode has finished\n",
    "            agent.step(states, actions, rewards, next_states, dones)\n",
    "            states = next_states\n",
    "            scores += rewards            \n",
    "            if np.any(dones):\n",
    "                break \n",
    "        \n",
    "        # save the scores for each agent and the mean score averaged over all agents for this episode\n",
    "        scores_all.append(scores)     \n",
    "        mean_scores_over_agents.append(np.mean(scores))\n",
    "        \n",
    "        # check the mean score that averaged over all agents and in continous episodes in a window\n",
    "        scores_window.append(np.mean(scores))   \n",
    "        average_score = np.mean(scores_window) \n",
    "        \n",
    "        # save the mean score averaged over agents and episodes\n",
    "        mean_scores_over_agents_episodes.append(average_score)\n",
    "        \n",
    "        print('\\rEpisode {}\\tAverage Score: {:.2f}'.format(i_episode, average_score))\n",
    "        #torch.save(agent.actor_local.state_dict(), 'checkpoint_actor.pth')\n",
    "        #torch.save(agent.critic_local.state_dict(), 'checkpoint_critic.pth')\n",
    "        if average_score>=solved_score and train_mode:\n",
    "            print('\\n Target score reached in {:d} episodes!\\tAverage Score: {:.2f}'.format(i_episode,average_score))\n",
    "            torch.save(agent.actor_local.state_dict(), 'checkpoint_actor_sigma_point2.pth')\n",
    "            torch.save(agent.critic_local.state_dict(), 'checkpoint_critic_sigma_point2.pth')\n",
    "            break\n",
    "    return scores_all,  mean_scores_over_agents, mean_scores_over_agents_episodes"
   ]
  },
  {
   "cell_type": "markdown",
   "metadata": {},
   "source": [
    "### 4. Plot the training scores"
   ]
  },
  {
   "cell_type": "code",
   "execution_count": null,
   "metadata": {
    "collapsed": false
   },
   "outputs": [
    {
     "name": "stderr",
     "output_type": "stream",
     "text": [
      "C:\\ProgramData\\Anaconda3\\lib\\site-packages\\torch\\nn\\functional.py:1320: UserWarning: nn.functional.tanh is deprecated. Use torch.tanh instead.\n",
      "  warnings.warn(\"nn.functional.tanh is deprecated. Use torch.tanh instead.\")\n"
     ]
    },
    {
     "name": "stdout",
     "output_type": "stream",
     "text": [
      "Episode 1\tAverage Score: 0.40\n",
      "Episode 2\tAverage Score: 0.45\n",
      "Episode 3\tAverage Score: 0.45\n",
      "Episode 4\tAverage Score: 0.52\n",
      "Episode 5\tAverage Score: 0.58\n",
      "Episode 6\tAverage Score: 0.60\n",
      "Episode 7\tAverage Score: 0.67\n",
      "Episode 8\tAverage Score: 0.84\n",
      "Episode 9\tAverage Score: 0.92\n",
      "Episode 10\tAverage Score: 0.96\n",
      "Episode 11\tAverage Score: 1.00\n",
      "Episode 12\tAverage Score: 1.04\n",
      "Episode 13\tAverage Score: 1.07\n",
      "Episode 14\tAverage Score: 1.12\n",
      "Episode 15\tAverage Score: 1.14\n",
      "Episode 16\tAverage Score: 1.15\n",
      "Episode 17\tAverage Score: 1.21\n",
      "Episode 18\tAverage Score: 1.28\n",
      "Episode 19\tAverage Score: 1.38\n",
      "Episode 20\tAverage Score: 1.44\n",
      "Episode 21\tAverage Score: 1.57\n",
      "Episode 22\tAverage Score: 1.63\n",
      "Episode 23\tAverage Score: 1.73\n",
      "Episode 24\tAverage Score: 1.78\n",
      "Episode 25\tAverage Score: 1.81\n",
      "Episode 26\tAverage Score: 1.86\n",
      "Episode 27\tAverage Score: 1.98\n",
      "Episode 28\tAverage Score: 2.04\n",
      "Episode 29\tAverage Score: 2.11\n",
      "Episode 30\tAverage Score: 2.16\n",
      "Episode 31\tAverage Score: 2.25\n",
      "Episode 32\tAverage Score: 2.33\n",
      "Episode 33\tAverage Score: 2.41\n",
      "Episode 34\tAverage Score: 2.49\n",
      "Episode 35\tAverage Score: 2.58\n",
      "Episode 36\tAverage Score: 2.64\n",
      "Episode 37\tAverage Score: 2.71\n",
      "Episode 38\tAverage Score: 2.77\n",
      "Episode 39\tAverage Score: 2.82\n",
      "Episode 40\tAverage Score: 2.87\n",
      "Episode 41\tAverage Score: 2.94\n",
      "Episode 42\tAverage Score: 2.98\n",
      "Episode 43\tAverage Score: 3.06\n",
      "Episode 44\tAverage Score: 3.10\n",
      "Episode 45\tAverage Score: 3.16\n",
      "Episode 46\tAverage Score: 3.22\n",
      "Episode 47\tAverage Score: 3.27\n",
      "Episode 48\tAverage Score: 3.33\n",
      "Episode 49\tAverage Score: 3.39\n",
      "Episode 50\tAverage Score: 3.45\n",
      "Episode 51\tAverage Score: 3.50\n",
      "Episode 52\tAverage Score: 3.57\n",
      "Episode 53\tAverage Score: 3.60\n",
      "Episode 54\tAverage Score: 3.65\n",
      "Episode 55\tAverage Score: 3.70\n",
      "Episode 56\tAverage Score: 3.72\n",
      "Episode 57\tAverage Score: 3.77\n",
      "Episode 58\tAverage Score: 3.81\n",
      "Episode 59\tAverage Score: 3.86\n",
      "Episode 60\tAverage Score: 3.91\n",
      "Episode 61\tAverage Score: 3.96\n",
      "Episode 62\tAverage Score: 4.01\n",
      "Episode 63\tAverage Score: 4.06\n",
      "Episode 64\tAverage Score: 4.10\n",
      "Episode 65\tAverage Score: 4.15\n",
      "Episode 66\tAverage Score: 4.18\n",
      "Episode 67\tAverage Score: 4.23\n",
      "Episode 68\tAverage Score: 4.26\n",
      "Episode 69\tAverage Score: 4.30\n",
      "Episode 70\tAverage Score: 4.34\n",
      "Episode 71\tAverage Score: 4.38\n"
     ]
    }
   ],
   "source": [
    "# Train the DDPG \n",
    "agent = Agent(state_size=state_size, action_size=action_size, random_seed = 1234)\n",
    "scores,  mean_scores_over_agents, mean_scores_over_agents_episodes = ddpg()"
   ]
  },
  {
   "cell_type": "code",
   "execution_count": null,
   "metadata": {
    "collapsed": false
   },
   "outputs": [],
   "source": [
    "plt.figure(figsize=(20,10))\n",
    "scores=np.array(scores)\n",
    "m,n=scores.shape\n",
    "plt.plot(np.arange(1, len(scores)+1), mean_scores_over_agents_episodes,'r')\n",
    "plt.plot(np.arange(1, len(scores)+1), mean_scores_over_agents, 'g')\n",
    "for i in range(n):\n",
    "    plt.plot(np.arange(1, len(scores)+1), scores[:,i], 'b*')    \n",
    "plt.grid()\n",
    "plt.xlabel('Episode')\n",
    "plt.ylabel('Training scores')\n",
    "plt.legend(( 'Mean score averaged over 20 agents and 100 episodes ', 'Mean score averaged over 20 agents','Scores for all agents'), loc='upper right')\n",
    "plt.show()"
   ]
  },
  {
   "cell_type": "markdown",
   "metadata": {},
   "source": [
    " ### 5. Watch the smart agent to play"
   ]
  },
  {
   "cell_type": "code",
   "execution_count": null,
   "metadata": {
    "collapsed": false
   },
   "outputs": [],
   "source": [
    "agent.actor_local.load_state_dict(torch.load('checkpoint_actor.pth'))\n",
    "agent.critic_local.load_state_dict(torch.load('checkpoint_critic.pth'))\n",
    "\n",
    "env_info = env.reset(train_mode=False)[brain_name]     # reset the environment    \n",
    "states = env_info.vector_observations                  # get the current state (for each agent)\n",
    "scores = np.zeros(num_agents)                          # initialize the score (for each agent)\n",
    "while True:\n",
    "    actions = agent.act(states)                        # select an action (for each agent)\n",
    "    env_info = env.step(actions)[brain_name]           # send all actions to tne environment\n",
    "    next_states = env_info.vector_observations         # get next state (for each agent)\n",
    "    rewards = env_info.rewards                         # get reward (for each agent)\n",
    "    dones = env_info.local_done                        # see if episode finished\n",
    "    scores += env_info.rewards                         # update the score (for each agent)\n",
    "    states = next_states                               # roll over states to next time step\n",
    "    if np.any(dones):                                  # exit loop if episode finished\n",
    "        break\n",
    "print('score averaged over all 20 agents {}'.format(np.mean(scores)))"
   ]
  },
  {
   "cell_type": "markdown",
   "metadata": {},
   "source": [
    "### 6. When finished, you can close the environment."
   ]
  },
  {
   "cell_type": "code",
   "execution_count": null,
   "metadata": {
    "collapsed": true
   },
   "outputs": [],
   "source": [
    "# env.close()"
   ]
  }
 ],
 "metadata": {
  "kernelspec": {
   "display_name": "Python 3",
   "language": "python",
   "name": "python3"
  },
  "language_info": {
   "codemirror_mode": {
    "name": "ipython",
    "version": 3
   },
   "file_extension": ".py",
   "mimetype": "text/x-python",
   "name": "python",
   "nbconvert_exporter": "python",
   "pygments_lexer": "ipython3",
   "version": "3.6.8"
  }
 },
 "nbformat": 4,
 "nbformat_minor": 2
}
